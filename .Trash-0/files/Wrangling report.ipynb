{
 "cells": [
  {
   "cell_type": "markdown",
   "metadata": {},
   "source": [
    "\n",
    "# WeRateDogs Analysis and Visualizations\n",
    "\n",
    "WeRateDogs is a twitter account that rates people’s dogs with a humorous comment about the dog. It was started in 2015 by college student Matt Nelson, and has since received international media coverage. It has also been endorsed by a lot of famous personalities including author J.K. Rowling.\n",
    "\n",
    "WeRateDogs asks people to send photos of their dogs, then tweets selected photos rating and a humorous comment. Dogs are rated on a scale of 1 -10 but are invariably given ratings in excess of the maximum, such as \"13/10\". Popular posts are re-posted on Instagram and Facebook.\n",
    "\n",
    "As of end of April,2018 the twitter account has nearly 6.72M followers with 6,889 tweets and 133K likes.\n",
    "\n",
    "I have analyzed this twitter account and spotted some interesting revelations. For this analysis, data considered was the tweet archive provided by Udacity which contains basic tweet data of this account as of 1 Aug,2017. \n",
    "\n",
    "First and foremost, I really wanted to know which is the most retweeted and favorited tweet on this account. Also, questions like which is the most common dog name or dog type, what is the average rating, which is the lowest rated dog etc. popped up. Lets check out the inferences below.\n",
    "I discovered that the most retweeted tweet (77659 times) is actually a 30 second video of a “doggo” trying to float in a pool. This is at the below link.\n",
    "\n",
    "https://twitter.com/dog_rates/status/744234799360020481/video/1\n",
    "\n",
    "Is the most retweeted tweet also the most favorite one? The answer is No. The most favorited tweet (143871 times) is an image of a puppo. Below is that image:"
   ]
  },
  {
   "cell_type": "markdown",
   "metadata": {},
   "source": [
    "![title](https://viewf6b31853.udacity-student-workspaces.com/tree/Images/Image_1.jpg \"ShowMyImage\")"
   ]
  },
  {
   "cell_type": "markdown",
   "metadata": {},
   "source": [
    "The average rating of a dog is 12.27/10. \n",
    "Talking about the highest rated dog, interestingly, it has been rated 1776/10. Below is the image of the dog."
   ]
  },
  {
   "cell_type": "markdown",
   "metadata": {},
   "source": [
    "![title](https://viewf6b31853.udacity-student-workspaces.com/tree/Images/Image_2.jpg \"ShowMyImage\")"
   ]
  },
  {
   "cell_type": "markdown",
   "metadata": {},
   "source": [
    "The least rated dog is sadly 1/10. There are 4 such dog images that have been rated this way. \n",
    "\n",
    "The most common dog type is a “pupper” and people seem to favor the name  “Lucy” and “Charlie” more than other dog names.\n",
    "Going deeper into the analysis, I carried out some visualizations. These produced further insights. "
   ]
  },
  {
   "cell_type": "markdown",
   "metadata": {},
   "source": [
    "![title](https://viewf6b31853.udacity-student-workspaces.com/tree/Images/Image_3.png \"ShowMyImage\")"
   ]
  },
  {
   "cell_type": "markdown",
   "metadata": {},
   "source": [
    "![title](https://viewf6b31853.udacity-student-workspaces.com/tree/Images/Image_4.png \"ShowMyImage\")"
   ]
  },
  {
   "cell_type": "markdown",
   "metadata": {},
   "source": [
    "The two plots shows the positive relation between retweet and favorites count and that the retweets and favorites have increased over time. This proves a gradual increase in popularity and following of this twitter acoount."
   ]
  },
  {
   "cell_type": "markdown",
   "metadata": {},
   "source": [
    "![title](https://viewf6b31853.udacity-student-workspaces.com/tree/Images/Image_5.png \"ShowMyImage\")"
   ]
  },
  {
   "cell_type": "markdown",
   "metadata": {},
   "source": [
    "Now, interestingly, the ratings given to dogs have also increased over time. \n"
   ]
  },
  {
   "cell_type": "markdown",
   "metadata": {},
   "source": [
    "![title](https://viewf6b31853.udacity-student-workspaces.com/tree/Images/Image_6.png \"ShowMyImage\")"
   ]
  },
  {
   "cell_type": "markdown",
   "metadata": {},
   "source": [
    "As mentioned before, pupper is the most commonly rated dog. However, the ratings shows a contrasting pattern. This is the least rated dog on an average.  The highest rated dog is generally  ’puppo’."
   ]
  },
  {
   "cell_type": "markdown",
   "metadata": {},
   "source": [
    "# Conclusion\n",
    "\n",
    "WeRateDogs twitter account has gradually increased in popularity and with time, the dog ratings and also, retweeting and favorite count of tweets have also increased. Pupper is the most commonly rated dog, however, if ratings are to go by, puppo seems to be the more popular choice."
   ]
  }
 ],
 "metadata": {
  "kernelspec": {
   "display_name": "Python 3",
   "language": "python",
   "name": "python3"
  },
  "language_info": {
   "codemirror_mode": {
    "name": "ipython",
    "version": 3
   },
   "file_extension": ".py",
   "mimetype": "text/x-python",
   "name": "python",
   "nbconvert_exporter": "python",
   "pygments_lexer": "ipython3",
   "version": "3.6.3"
  }
 },
 "nbformat": 4,
 "nbformat_minor": 2
}
